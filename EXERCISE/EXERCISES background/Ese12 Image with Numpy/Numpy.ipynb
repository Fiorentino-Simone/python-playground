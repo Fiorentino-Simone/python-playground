{
 "cells": [
  {
   "cell_type": "code",
   "execution_count": 2,
   "id": "a082793f",
   "metadata": {},
   "outputs": [],
   "source": [
    "#Numpy è una libreria che fornisce un array multidimensionale. Esso si può usare ad esempio per memorizzare le immagini in numeri\n",
    "#oppure esso è molto usato per manipolare e lavorare con i valori all'interno dell'array\n",
    "#La libreria numpy, viene usata da molte altre librerie come: Pandas oppure openCV (la quale gestisce le immagini)\n",
    "import numpy\n",
    "#Documentazione: https://numpy.org/doc/"
   ]
  },
  {
   "cell_type": "code",
   "execution_count": 3,
   "id": "e961152c",
   "metadata": {},
   "outputs": [],
   "source": [
    "n=numpy.arange(27)"
   ]
  },
  {
   "cell_type": "code",
   "execution_count": 4,
   "id": "4f5d0c09",
   "metadata": {},
   "outputs": [
    {
     "data": {
      "text/plain": [
       "array([ 0,  1,  2,  3,  4,  5,  6,  7,  8,  9, 10, 11, 12, 13, 14, 15, 16,\n",
       "       17, 18, 19, 20, 21, 22, 23, 24, 25, 26])"
      ]
     },
     "execution_count": 4,
     "metadata": {},
     "output_type": "execute_result"
    }
   ],
   "source": [
    "n"
   ]
  },
  {
   "cell_type": "code",
   "execution_count": 5,
   "id": "8c9def9a",
   "metadata": {},
   "outputs": [
    {
     "data": {
      "text/plain": [
       "array([[ 0,  1,  2,  3,  4,  5,  6,  7,  8],\n",
       "       [ 9, 10, 11, 12, 13, 14, 15, 16, 17],\n",
       "       [18, 19, 20, 21, 22, 23, 24, 25, 26]])"
      ]
     },
     "execution_count": 5,
     "metadata": {},
     "output_type": "execute_result"
    }
   ],
   "source": [
    "#questo era un semplice vettore di numeri fino a 27, se vogliamo poi passare ad una matrice bisogna fare un reshape\n",
    "n.reshape(3,9)"
   ]
  },
  {
   "cell_type": "code",
   "execution_count": 6,
   "id": "3c3cd57e",
   "metadata": {},
   "outputs": [
    {
     "data": {
      "text/plain": [
       "array([[[ 0,  1,  2],\n",
       "        [ 3,  4,  5],\n",
       "        [ 6,  7,  8]],\n",
       "\n",
       "       [[ 9, 10, 11],\n",
       "        [12, 13, 14],\n",
       "        [15, 16, 17]],\n",
       "\n",
       "       [[18, 19, 20],\n",
       "        [21, 22, 23],\n",
       "        [24, 25, 26]]])"
      ]
     },
     "execution_count": 6,
     "metadata": {},
     "output_type": "execute_result"
    }
   ],
   "source": [
    "#oppure tridimensionale \n",
    "n.reshape(3,3,3)"
   ]
  },
  {
   "cell_type": "code",
   "execution_count": 7,
   "id": "6df59cff",
   "metadata": {},
   "outputs": [
    {
     "data": {
      "text/plain": [
       "array([10, 15])"
      ]
     },
     "execution_count": 7,
     "metadata": {},
     "output_type": "execute_result"
    }
   ],
   "source": [
    "#per convertire un oggetto ad un array si può utilizzare la funzione\n",
    "m = numpy.asarray([10,15])\n",
    "m"
   ]
  },
  {
   "cell_type": "code",
   "execution_count": 8,
   "id": "07b1d55c",
   "metadata": {},
   "outputs": [],
   "source": [
    "#adesso andiamo a importare la libreria che serve per la gestire le immagini: \n",
    "import cv2\n",
    "#Documentazione: https://opencv.org/"
   ]
  },
  {
   "cell_type": "code",
   "execution_count": 9,
   "id": "56a5acee",
   "metadata": {},
   "outputs": [
    {
     "data": {
      "text/plain": [
       "array([[187, 158, 104, 121, 143],\n",
       "       [198, 125, 255, 255, 147],\n",
       "       [209, 134, 255,  97, 182]], dtype=uint8)"
      ]
     },
     "execution_count": 9,
     "metadata": {},
     "output_type": "execute_result"
    }
   ],
   "source": [
    "#per leggere un immagine in py, bisogna usare il metodo imread esso va a leggere l'imamgine in:\n",
    "#0--> in scala di grigi\n",
    "#1--> BGR blu, verde e rosso (uguale a RGB solamente che proprietario cv2)\n",
    "#l'immagine presa in test è molto piccola: al massimo 15pixel per evitare grandi mole di dati\n",
    "img_grey=cv2.imread(\"img/smallgray.png\",0)\n",
    "img_grey\n",
    "#il risultato è una matrice numpy con 3X5 colonne --> 15px"
   ]
  },
  {
   "cell_type": "code",
   "execution_count": 10,
   "id": "39689e04",
   "metadata": {},
   "outputs": [
    {
     "data": {
      "text/plain": [
       "array([[[187, 187, 187],\n",
       "        [158, 158, 158],\n",
       "        [104, 104, 104],\n",
       "        [121, 121, 121],\n",
       "        [143, 143, 143]],\n",
       "\n",
       "       [[198, 198, 198],\n",
       "        [125, 125, 125],\n",
       "        [255, 255, 255],\n",
       "        [255, 255, 255],\n",
       "        [147, 147, 147]],\n",
       "\n",
       "       [[209, 209, 209],\n",
       "        [134, 134, 134],\n",
       "        [255, 255, 255],\n",
       "        [ 97,  97,  97],\n",
       "        [182, 182, 182]]], dtype=uint8)"
      ]
     },
     "execution_count": 10,
     "metadata": {},
     "output_type": "execute_result"
    }
   ],
   "source": [
    "img_BGR = cv2.imread(\"img/smallgray.png\",1)\n",
    "img_BGR\n",
    "#il primo array è per il blu, poi il verde e poi il rosso\n",
    "#matrice tridimensionale"
   ]
  },
  {
   "cell_type": "code",
   "execution_count": 11,
   "id": "080c833a",
   "metadata": {},
   "outputs": [
    {
     "data": {
      "text/plain": [
       "True"
      ]
     },
     "execution_count": 11,
     "metadata": {},
     "output_type": "execute_result"
    }
   ],
   "source": [
    "#per creare delle immagini invece si usa il metodo imwrite, che permette di passare il nome dell'immagine e la matrice di valori\n",
    "cv2.imwrite(\"newImageGray.png\",img_BGR)"
   ]
  },
  {
   "cell_type": "code",
   "execution_count": 12,
   "id": "774578d9",
   "metadata": {},
   "outputs": [
    {
     "data": {
      "text/plain": [
       "array([[104, 121],\n",
       "       [255, 255]], dtype=uint8)"
      ]
     },
     "execution_count": 12,
     "metadata": {},
     "output_type": "execute_result"
    }
   ],
   "source": [
    "#per quanto riguarda l'indicizzazione e lo slice:\n",
    "img_grey[0:2,2:4]\n",
    "#il primo indice è per le righe (quindi richiedo le prime 2)\n",
    "#il secondo indice è per le colonne (quindi richiedo dalla 2 alla 4 --> escluso)"
   ]
  },
  {
   "cell_type": "code",
   "execution_count": 14,
   "id": "968c6f58",
   "metadata": {},
   "outputs": [
    {
     "data": {
      "text/plain": [
       "104"
      ]
     },
     "execution_count": 14,
     "metadata": {},
     "output_type": "execute_result"
    }
   ],
   "source": [
    "img_grey[0,2]"
   ]
  },
  {
   "cell_type": "code",
   "execution_count": 17,
   "id": "64108b17",
   "metadata": {},
   "outputs": [
    {
     "name": "stdout",
     "output_type": "stream",
     "text": [
      "[187 158 104 121 143]\n",
      "[198 125 255 255 147]\n",
      "[209 134 255  97 182]\n"
     ]
    }
   ],
   "source": [
    "#per iterare degli array si può usare il for\n",
    "#PRIMO CASO: vado ad iterare per singola riga\n",
    "for i in img_grey:\n",
    "    print(i)"
   ]
  },
  {
   "cell_type": "code",
   "execution_count": 18,
   "id": "4c5c276d",
   "metadata": {},
   "outputs": [
    {
     "name": "stdout",
     "output_type": "stream",
     "text": [
      "187\n",
      "158\n",
      "104\n",
      "121\n",
      "143\n",
      "198\n",
      "125\n",
      "255\n",
      "255\n",
      "147\n",
      "209\n",
      "134\n",
      "255\n",
      "97\n",
      "182\n"
     ]
    }
   ],
   "source": [
    "#SECONDO CASO: vado ad iterare per singolo item nella matrice\n",
    "for i in img_grey.flat:\n",
    "    print(i)"
   ]
  },
  {
   "cell_type": "code",
   "execution_count": 22,
   "id": "f9215b4c",
   "metadata": {},
   "outputs": [
    {
     "data": {
      "text/plain": [
       "array([[187, 158, 104, 121, 143, 187, 158, 104, 121, 143],\n",
       "       [198, 125, 255, 255, 147, 198, 125, 255, 255, 147],\n",
       "       [209, 134, 255,  97, 182, 209, 134, 255,  97, 182]], dtype=uint8)"
      ]
     },
     "execution_count": 22,
     "metadata": {},
     "output_type": "execute_result"
    }
   ],
   "source": [
    "#per andare invece a concatenare degli array bisogna usare hstack (per la concatenazione orizzontale)\n",
    "#bisogna passare per forza una tupla, siccome la funzione richiede un solo parametro\n",
    "#i vettori passati devono avere per forza la stessa dimensione \n",
    "new_array = numpy.hstack((img_grey, img_grey))\n",
    "new_array"
   ]
  },
  {
   "cell_type": "code",
   "execution_count": 24,
   "id": "a91328e3",
   "metadata": {},
   "outputs": [
    {
     "data": {
      "text/plain": [
       "array([[187, 158, 104, 121, 143],\n",
       "       [198, 125, 255, 255, 147],\n",
       "       [209, 134, 255,  97, 182],\n",
       "       [187, 158, 104, 121, 143],\n",
       "       [198, 125, 255, 255, 147],\n",
       "       [209, 134, 255,  97, 182]], dtype=uint8)"
      ]
     },
     "execution_count": 24,
     "metadata": {},
     "output_type": "execute_result"
    }
   ],
   "source": [
    "#per la concatenazione verticale si utilizza: vstack\n",
    "new_array = numpy.vstack((img_grey, img_grey))\n",
    "new_array"
   ]
  },
  {
   "cell_type": "code",
   "execution_count": 26,
   "id": "5293fe8d",
   "metadata": {},
   "outputs": [
    {
     "data": {
      "text/plain": [
       "[array([[187, 158, 104, 121, 143],\n",
       "        [198, 125, 255, 255, 147]], dtype=uint8),\n",
       " array([[209, 134, 255,  97, 182],\n",
       "        [187, 158, 104, 121, 143]], dtype=uint8),\n",
       " array([[198, 125, 255, 255, 147],\n",
       "        [209, 134, 255,  97, 182]], dtype=uint8)]"
      ]
     },
     "execution_count": 26,
     "metadata": {},
     "output_type": "execute_result"
    }
   ],
   "source": [
    "#per lo split di array si gestisce allo stesso modo con: vsplit e hsplit\n",
    "#ricordo che non si può splittare per un numero cui divisione con il numero di elementi orizzontali o verticali da resto\n",
    "#VERTICALE:\n",
    "lst = numpy.vsplit(new_array,3)\n",
    "lst"
   ]
  },
  {
   "cell_type": "code",
   "execution_count": 29,
   "id": "9203aede",
   "metadata": {},
   "outputs": [
    {
     "name": "stdout",
     "output_type": "stream",
     "text": [
      "[array([[187],\n",
      "       [198],\n",
      "       [209],\n",
      "       [187],\n",
      "       [198],\n",
      "       [209]], dtype=uint8), array([[158],\n",
      "       [125],\n",
      "       [134],\n",
      "       [158],\n",
      "       [125],\n",
      "       [134]], dtype=uint8), array([[104],\n",
      "       [255],\n",
      "       [255],\n",
      "       [104],\n",
      "       [255],\n",
      "       [255]], dtype=uint8), array([[121],\n",
      "       [255],\n",
      "       [ 97],\n",
      "       [121],\n",
      "       [255],\n",
      "       [ 97]], dtype=uint8), array([[143],\n",
      "       [147],\n",
      "       [182],\n",
      "       [143],\n",
      "       [147],\n",
      "       [182]], dtype=uint8)]\n"
     ]
    }
   ],
   "source": [
    "#ORIZZONTALE:\n",
    "lst = numpy.hsplit(new_array,5)\n",
    "print(lst)"
   ]
  },
  {
   "cell_type": "code",
   "execution_count": null,
   "id": "3a0ba74a",
   "metadata": {},
   "outputs": [],
   "source": []
  }
 ],
 "metadata": {
  "kernelspec": {
   "display_name": "Python 3 (ipykernel)",
   "language": "python",
   "name": "python3"
  },
  "language_info": {
   "codemirror_mode": {
    "name": "ipython",
    "version": 3
   },
   "file_extension": ".py",
   "mimetype": "text/x-python",
   "name": "python",
   "nbconvert_exporter": "python",
   "pygments_lexer": "ipython3",
   "version": "3.10.4"
  }
 },
 "nbformat": 4,
 "nbformat_minor": 5
}
